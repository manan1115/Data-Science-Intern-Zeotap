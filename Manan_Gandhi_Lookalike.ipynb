{
 "cells": [
  {
   "cell_type": "markdown",
   "id": "90d4dcea",
   "metadata": {},
   "source": [
    "Data Science Internship at Zeotap-Task2"
   ]
  },
  {
   "cell_type": "code",
   "execution_count": 2,
   "id": "8b6a3aec",
   "metadata": {},
   "outputs": [
    {
     "name": "stdout",
     "output_type": "stream",
     "text": [
      "Lookalike model generated and saved to Lookalike.csv\n"
     ]
    },
    {
     "name": "stderr",
     "output_type": "stream",
     "text": [
      "C:\\Users\\91996\\anaconda3\\Lib\\site-packages\\sklearn\\preprocessing\\_encoders.py:868: FutureWarning: `sparse` was renamed to `sparse_output` in version 1.2 and will be removed in 1.4. `sparse_output` is ignored unless you leave `sparse` to its default value.\n",
      "  warnings.warn(\n"
     ]
    }
   ],
   "source": [
    "import pandas as pd\n",
    "import numpy as np\n",
    "from sklearn.preprocessing import OneHotEncoder, StandardScaler\n",
    "from sklearn.metrics.pairwise import cosine_similarity\n",
    "from datetime import datetime\n",
    "\n",
    "# Loading the datasets into pandas data frame from the csv files\n",
    "customers_df = pd.read_csv(r\"C:\\Users\\91996\\Downloads\\Customers.csv\")\n",
    "products_df = pd.read_csv(r\"C:\\Users\\91996\\Downloads\\Products.csv\")\n",
    "transactions_df = pd.read_csv(r\"C:\\Users\\91996\\Downloads\\Transactions - Transactions.csv\")\n",
    "\n",
    "# Data Preprocessing\n",
    "\n",
    "# Converting 'SignupDate' and 'TransactionDate' to datetime format (Dataframe object)\n",
    "customers_df['SignupDate'] = pd.to_datetime(customers_df['SignupDate'])\n",
    "transactions_df['TransactionDate'] = pd.to_datetime(transactions_df['TransactionDate'])\n",
    "today = transactions_df['TransactionDate'].max()\n",
    "\n",
    "# Merging transactions with product information\n",
    "transactions_df = transactions_df.merge(products_df[['ProductID', 'Category', 'Price']], on='ProductID')\n",
    "\n",
    "# Creating 'Recency', 'Frequency', 'Monetary' (RFM) features for each customer\n",
    "recency_df = transactions_df.groupby('CustomerID')['TransactionDate'].max().reset_index()\n",
    "recency_df['Recency'] = (today - recency_df['TransactionDate']).dt.days\n",
    "recency_df = recency_df.drop(columns=['TransactionDate'])\n",
    "\n",
    "frequency_df = transactions_df.groupby('CustomerID')['TransactionID'].nunique().reset_index()\n",
    "frequency_df.columns = ['CustomerID', 'Frequency']\n",
    "\n",
    "monetary_df = transactions_df.groupby('CustomerID')['TotalValue'].sum().reset_index()\n",
    "monetary_df.columns = ['CustomerID', 'Monetary']\n",
    "\n",
    "# Merging the RFM features (Transactions data) with the customer data\n",
    "rfm_df = recency_df.merge(frequency_df, on='CustomerID').merge(monetary_df, on='CustomerID')\n",
    "customer_features_df = customers_df[['CustomerID', 'Region']].merge(rfm_df, on='CustomerID')\n",
    "\n",
    "# One-hot encode categorical 'Region' using OneHotEncoder\n",
    "encoder = OneHotEncoder(sparse=False)\n",
    "region_encoded = encoder.fit_transform(customer_features_df[['Region']])\n",
    "region_df = pd.DataFrame(region_encoded, columns=encoder.get_feature_names_out(['Region']))\n",
    "customer_features_df = pd.concat([customer_features_df, region_df], axis=1).drop(columns=['Region'])\n",
    "\n",
    "# Standardizing the features\n",
    "scaler = StandardScaler()\n",
    "rfm_features = customer_features_df[['Recency', 'Frequency', 'Monetary']]\n",
    "scaled_rfm = scaler.fit_transform(rfm_features)\n",
    "scaled_rfm_df = pd.DataFrame(scaled_rfm, columns=['Recency', 'Frequency', 'Monetary'])\n",
    "customer_features_df[['Recency', 'Frequency', 'Monetary']] = scaled_rfm_df\n",
    "\n",
    "# Calculating the cosine similarity \n",
    "similarity_matrix = cosine_similarity(customer_features_df.drop(columns=['CustomerID']))\n",
    "\n",
    "# Generate the Lookalike Model recommendations\n",
    "lookalikes = {}\n",
    "\n",
    "# For customers C0001 to C0020, finding the top 3 most similar customers\n",
    "for i in range(20):\n",
    "    customer_id = f'C{i+1:04}'\n",
    "    customer_idx = customer_features_df[customer_features_df['CustomerID'] == customer_id].index[0]\n",
    "    similarity_scores = similarity_matrix[customer_idx]\n",
    "    \n",
    "    # Sort the similarity scores in descending order and pick the top 3 similar customers (exclude self)\n",
    "    similar_customers = np.argsort(similarity_scores)[::-1][1:4]  # Exclude the customer itself\n",
    "    lookalikes[customer_id] = [(customer_features_df.iloc[idx]['CustomerID'], similarity_scores[idx]) for idx in similar_customers]\n",
    "\n",
    "# Creating csv file to store the result\n",
    "lookalike_df = []\n",
    "for customer_id, similar_customers in lookalikes.items():\n",
    "    for similar_customer, score in similar_customers:\n",
    "        lookalike_df.append({'CustomerID': customer_id, 'LookalikeCustomerID': similar_customer, 'SimilarityScore': score})\n",
    "\n",
    "lookalike_df = pd.DataFrame(lookalike_df)\n",
    "lookalike_df.to_csv('Manan_Gandhi_Lookalike.csv', index=False)\n",
    "\n",
    "print(\"Lookalike model generated and saved to Lookalike.csv\")\n",
    "\n",
    "#Hence we have created a lookalike model with the precise accuracy and the similarity betweeen the customers based on the features selected and with standardize scaling\n"
   ]
  },
  {
   "cell_type": "code",
   "execution_count": null,
   "id": "811b5de0",
   "metadata": {},
   "outputs": [],
   "source": []
  }
 ],
 "metadata": {
  "kernelspec": {
   "display_name": "Python 3 (ipykernel)",
   "language": "python",
   "name": "python3"
  },
  "language_info": {
   "codemirror_mode": {
    "name": "ipython",
    "version": 3
   },
   "file_extension": ".py",
   "mimetype": "text/x-python",
   "name": "python",
   "nbconvert_exporter": "python",
   "pygments_lexer": "ipython3",
   "version": "3.11.3"
  }
 },
 "nbformat": 4,
 "nbformat_minor": 5
}
